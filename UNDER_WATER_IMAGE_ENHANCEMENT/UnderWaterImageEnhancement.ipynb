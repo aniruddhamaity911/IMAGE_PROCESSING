{
 "cells": [
  {
   "cell_type": "code",
   "execution_count": 2,
   "metadata": {},
   "outputs": [],
   "source": [
    "import os\n",
    "import math\n",
    "import numpy as np\n",
    "import cv2\n",
    "from PIL import Image ,ImageFilter\n",
    "import natsort\n",
    "import xlwt\n",
    "import numpy as np\n",
    "import sys\n",
    "import skimage\n",
    "import seaborn as sns\n",
    "import matplotlib.pyplot as plt"
   ]
  },
  {
   "cell_type": "markdown",
   "metadata": {},
   "source": [
    "# Gray World(while balancing)"
   ]
  },
  {
   "cell_type": "code",
   "execution_count": 3,
   "metadata": {},
   "outputs": [],
   "source": [
    "def white_balance_loops(img):\n",
    "    result = cv2.cvtColor(img, cv2.COLOR_BGR2LAB)\n",
    "    avg_a = np.average(result[:, :, 1])\n",
    "    avg_b = np.average(result[:, :, 2])\n",
    "    for x in range(result.shape[0]):\n",
    "        for y in range(result.shape[1]):\n",
    "            l, a, b = result[x, y, :]\n",
    "            l *= 100 / 255.0\n",
    "            result[x, y, 1] = a - ((avg_a - 128) * (l / 100.0) * 1.1)\n",
    "            result[x, y, 2] = b - ((avg_b - 128) * (l / 100.0) * 1.1)\n",
    "    result = cv2.cvtColor(result, cv2.COLOR_LAB2BGR)\n",
    "    return result"
   ]
  },
  {
   "cell_type": "markdown",
   "metadata": {},
   "source": [
    "# SCB"
   ]
  },
  {
   "cell_type": "code",
   "execution_count": 4,
   "metadata": {},
   "outputs": [],
   "source": [
    "\n",
    "def apply_mask(matrix, mask, fill_value):\n",
    "    masked = np.ma.array(matrix, mask=mask, fill_value=fill_value)\n",
    "    return masked.filled()\n",
    "\n",
    "def apply_threshold(matrix, low_value, high_value):\n",
    "    low_mask = matrix < low_value\n",
    "    matrix = apply_mask(matrix, low_mask, low_value)\n",
    "\n",
    "    high_mask = matrix > high_value\n",
    "    matrix = apply_mask(matrix, high_mask, high_value)\n",
    "\n",
    "    return matrix\n",
    "\n",
    "def simplest_cb(img, percent):\n",
    "    assert img.shape[2] == 3\n",
    "    assert percent > 0 and percent < 100\n",
    "\n",
    "    half_percent = percent / 200.0\n",
    "\n",
    "    channels = cv2.split(img)\n",
    "\n",
    "    out_channels = []\n",
    "    for channel in channels:\n",
    "        assert len(channel.shape) == 2\n",
    "        height, width = channel.shape\n",
    "        vec_size = width * height\n",
    "        flat = channel.reshape(vec_size)\n",
    "\n",
    "        assert len(flat.shape) == 1\n",
    "\n",
    "        flat = np.sort(flat)\n",
    "\n",
    "        n_cols = flat.shape[0]\n",
    "\n",
    "        low_val  = flat[math.floor(n_cols * half_percent)]\n",
    "        high_val = flat[math.ceil( n_cols * (1.0 - half_percent))]\n",
    "\n",
    "        thresholded = apply_threshold(channel, low_val, high_val)\n",
    "\n",
    "        normalized = cv2.normalize(thresholded, thresholded.copy(), 0, 255, cv2.NORM_MINMAX)\n",
    "        out_channels.append(normalized)\n",
    "\n",
    "    return cv2.merge(out_channels)\n",
    "\n"
   ]
  },
  {
   "cell_type": "markdown",
   "metadata": {},
   "source": [
    "# CLAHE"
   ]
  },
  {
   "cell_type": "code",
   "execution_count": 5,
   "metadata": {},
   "outputs": [],
   "source": [
    "def Clahe(bgr):\n",
    "    lab=cv2.cvtColor(bgr,cv2.COLOR_BGR2LAB)\n",
    "    l,a,b = cv2.split(lab)\n",
    "    clahe = cv2.createCLAHE(clipLimit=1.0,tileGridSize=(40,40))\n",
    "    l1=clahe.apply(l)\n",
    "    a1=clahe.apply(a)\n",
    "    b1=clahe.apply(b)\n",
    "    bgr=cv2.merge((l1,a,b))\n",
    "    return cv2.cvtColor(bgr,cv2.COLOR_LAB2BGR)"
   ]
  },
  {
   "cell_type": "markdown",
   "metadata": {},
   "source": [
    "# Sharpening  "
   ]
  },
  {
   "cell_type": "code",
   "execution_count": 8,
   "metadata": {},
   "outputs": [],
   "source": [
    "def sharpen(img,kernel=np.array([[0, -1,  0],\n",
    "                            [-1,  4, -1],                   \n",
    "                            [0, -1,  0]]),scaled=0.3):\n",
    "    \n",
    "    img = img + scaled*cv2.filter2D(src=img, ddepth=-1, kernel=kernel)\n",
    "    \n",
    "    return img"
   ]
  },
  {
   "cell_type": "code",
   "execution_count": 10,
   "metadata": {},
   "outputs": [],
   "source": [
    "#input directory\n",
    "indirect = \"/mnt/1692805e-3445-4084-97bb-231a29d2f2a2/Project Final Year/underwater images/\"\n",
    "#output directory\n",
    "outdirect = '/mnt/1692805e-3445-4084-97bb-231a29d2f2a2/Project Final Year/test/'\n",
    "for f in os.listdir(indirect):\n",
    "    img=cv2.imread(indirect+f)\n",
    "    img2 = white_balance_loops(img)\n",
    "    img2 = simplest_cb(img,0.01)\n",
    "    img2 = Clahe(img2)  \n",
    "    img2 = sharpen(img=img2)\n",
    "    cv2.imwrite(outdirect+f,img2)"
   ]
  },
  {
   "cell_type": "markdown",
   "metadata": {},
   "source": [
    "# THE END"
   ]
  }
 ],
 "metadata": {
  "kernelspec": {
   "display_name": "Python 3",
   "language": "python",
   "name": "python3"
  },
  "language_info": {
   "codemirror_mode": {
    "name": "ipython",
    "version": 3
   },
   "file_extension": ".py",
   "mimetype": "text/x-python",
   "name": "python",
   "nbconvert_exporter": "python",
   "pygments_lexer": "ipython3",
   "version": "3.6.13"
  }
 },
 "nbformat": 4,
 "nbformat_minor": 2
}
